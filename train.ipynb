{
 "cells": [
  {
   "cell_type": "code",
   "execution_count": 150,
   "metadata": {
    "pycharm": {
     "is_executing": true
    }
   },
   "outputs": [
    {
     "name": "stderr",
     "output_type": "stream",
     "text": [
      "C:\\Users\\maaya\\AppData\\Local\\Temp\\ipykernel_2596\\3169132750.py:5: DeprecationWarning: Importing display from IPython.core.display is deprecated since IPython 7.14, please import from IPython display\n",
      "  from IPython.core.display import display, HTML\n"
     ]
    },
    {
     "data": {
      "text/html": [
       "<style>.container { width:100% !important; }</style>"
      ],
      "text/plain": [
       "<IPython.core.display.HTML object>"
      ]
     },
     "metadata": {},
     "output_type": "display_data"
    }
   ],
   "source": [
    "import pandas as pd\n",
    "import matplotlib.pyplot as plt\n",
    "import numpy as np\n",
    "import seaborn as sns\n",
    "from IPython.core.display import display, HTML\n",
    "display(HTML(\"<style>.container { width:100% !important; }</style>\"))\n",
    "from imblearn.over_sampling import SMOTE\n",
    "from imblearn.under_sampling import RandomUnderSampler\n",
    "from imblearn.pipeline import Pipeline\n",
    "import scipy.stats as stats\n",
    "from sklearn.metrics import confusion_matrix, accuracy_score, precision_score, recall_score, f1_score\n",
    "from sklearn.metrics import confusion_matrix, roc_auc_score, mean_absolute_error, mean_squared_error\n",
    "from sklearn.ensemble import RandomForestClassifier\n",
    "from sklearn.model_selection import train_test_split\n",
    "from functools import partial"
   ]
  },
  {
   "cell_type": "code",
   "execution_count": 151,
   "metadata": {},
   "outputs": [],
   "source": [
    "df = pd.read_pickle(\"all_df.pkl\")\n",
    "test_df_original = pd.read_pickle(\"all_df_test.pkl\")"
   ]
  },
  {
   "cell_type": "code",
   "execution_count": 152,
   "metadata": {},
   "outputs": [],
   "source": [
    "def run_and_eval(model_class, X_train, y_train, X_test, y_test):\n",
    "    model = model_class()\n",
    "    model.fit(X_train, y_train)\n",
    "    y_pred = model.predict(X_test)\n",
    "    X_test_copy = X_test.copy()\n",
    "    X_test_copy['preds'] = y_pred\n",
    "    y_pred_per_patient = pd.DataFrame(X_test_copy.groupby('patient id')['preds'].apply(lambda x: (x == 1).any()).astype(int))['preds']\n",
    "    evaluate_model(y_true=y_test, y_pred=y_pred_per_patient)\n",
    "    return y_pred"
   ]
  },
  {
   "cell_type": "code",
   "execution_count": 153,
   "metadata": {},
   "outputs": [],
   "source": [
    "def evaluate_model(y_true,y_pred):\n",
    "    accuracy = accuracy_score(y_true, y_pred)\n",
    "    print(\"Accuracy:\", accuracy)\n",
    "    precision = precision_score(y_true, y_pred)\n",
    "    print(\"Precision:\", precision)\n",
    "    recall = recall_score(y_true, y_pred)\n",
    "    print(\"Recall:\", recall)\n",
    "    f1 = f1_score(y_true, y_pred)\n",
    "    print(\"F1 Score:\", f1)\n",
    "    auc = roc_auc_score(y_true, y_pred)\n",
    "    print(\"AUC-ROC:\", auc)\n",
    "    mae = mean_absolute_error(y_true, y_pred)\n",
    "    print(\"Mean Absolute Error:\", mae)\n",
    "    rmse = np.sqrt(mean_squared_error(y_true, y_pred))\n",
    "    print(\"Root Mean Squared Error:\", rmse)\n",
    "    cm = confusion_matrix(y_true, y_pred)\n",
    "    sns.heatmap(cm, annot=True, fmt='d')\n",
    "    plt.show()"
   ]
  },
  {
   "cell_type": "code",
   "execution_count": 154,
   "metadata": {},
   "outputs": [],
   "source": [
    "def outliers_perc_of_col(target, df):\n",
    "    df_not_null = df[target].dropna()\n",
    "    Q1 = np.percentile(df_not_null, 25)\n",
    "    Q3 = np.percentile(df_not_null, 75)\n",
    "    IQR = Q3 - Q1\n",
    "    ul = Q3 + 1.5 * IQR\n",
    "    ll = Q1 - 1.5 * IQR\n",
    "    outliers = df_not_null[(df_not_null > ul) | (df_not_null < ll)]\n",
    "    outliers_per = round((len(outliers)/len(df_not_null))*100,2)\n",
    "    return outliers_per"
   ]
  },
  {
   "cell_type": "code",
   "execution_count": 334,
   "metadata": {},
   "outputs": [],
   "source": [
    "def prepare_df(df, type_df=\"train\"):\n",
    "    columns_to_drop = {'DBP', 'SBP','pH','HCO3', 'Hgb', 'Bilirubin_direct', 'EtCO2', 'Fibrinogen', 'TroponinI', 'Unit2'}\n",
    "    df_processed = df.drop(columns = columns_to_drop)\n",
    "    df_processed = df_processed.groupby('patient id').apply(lambda x: x.bfill().ffill()).reset_index(drop=True)\n",
    "    outlier_perc_dict = {}\n",
    "    for col in df_processed.columns:\n",
    "        outlier_perc_dict[col] = [outliers_perc_of_col(col, df_processed)]\n",
    "    outliers_perc_df = pd.DataFrame(outlier_perc_dict).T\n",
    "    outliers_perc_df.columns = [\"Outliers %\"]\n",
    "    outliers_perc_df = outliers_perc_df.sort_values(by=['Outliers %'], ascending=False)\n",
    "    columns = df_processed.columns\n",
    "    for col in columns:\n",
    "        median = df_processed[col].median()\n",
    "        avg =df_processed[col].mean()\n",
    "        mode = df_processed[col].mode()[0]\n",
    "        outlier_perc = outliers_perc_df.loc[col,'Outliers %']\n",
    "        if df_processed[col].nunique() == 2:\n",
    "            df_processed[col] = df_processed[col].fillna(mode)\n",
    "        else:\n",
    "            if outlier_perc <= 5:\n",
    "                df_processed[col] = df_processed[col].fillna(avg)\n",
    "            elif outlier_perc > 5:\n",
    "                df_processed[col] = df_processed[col].fillna(median)\n",
    "\n",
    "    if type_df == \"train\":\n",
    "        majority_class = df_processed[df_processed['SepsisLabel'] == 0]\n",
    "        minority_class = df_processed[df_processed['SepsisLabel'] == 1]\n",
    "        majority_subset = majority_class.sample(n=2*len(minority_class))\n",
    "        df_processed = df_processed[(df_processed['SepsisLabel'] == 1) | ((df_processed['SepsisLabel'] == 0) & (df_processed.index.isin(majority_subset.index)))].reset_index(drop=True)\n",
    "    \n",
    "    X = df_processed.drop('SepsisLabel', axis=1)\n",
    "    y = df_processed['SepsisLabel']\n",
    "    \n",
    "    if type_df == \"test\":\n",
    "        y = pd.DataFrame(df_processed.groupby('patient id')['SepsisLabel'].apply(lambda x: (x == 1).any()).astype(int))['SepsisLabel']\n",
    "    return X, y"
   ]
  },
  {
   "cell_type": "code",
   "execution_count": 335,
   "metadata": {},
   "outputs": [],
   "source": [
    "X_train, y_train = prepare_df(df, type_df=\"train\")\n",
    "X_test, y_test = prepare_df(test_df_original, type_df=\"test\")"
   ]
  },
  {
   "cell_type": "code",
   "execution_count": 332,
   "metadata": {},
   "outputs": [],
   "source": [
    "def add_time_series_cols(x_df, features_to_process, num_hours, y_df=None):\n",
    "    rows_dict = x_df.groupby('patient id').size().to_dict()\n",
    "    for feature in features_to_process:\n",
    "        for hour in range(1, num_hours+1):\n",
    "            x_df[f'{feature}_before_{hour}_hour'] = x_df.groupby('patient id')[feature].shift(hour)\n",
    "\n",
    "    for patient_id, num_rows in rows_dict.items():\n",
    "        if num_rows <= num_hours:\n",
    "            last_row = x_df[x_df['patient id'] == patient_id].iloc[-1]\n",
    "            for feature in features_to_process:\n",
    "                for i in range(num_rows, num_hours+1):\n",
    "                    if i == 1:\n",
    "                        val = last_row[feature]\n",
    "                    else:\n",
    "                        val = last_row[f'{feature}_before_{i-1}_hour']\n",
    "                    last_row[f'{feature}_before_{i}_hour'] = val\n",
    "                    \n",
    "            for i in range(num_hours - num_rows + 1):\n",
    "                x_df = pd.concat([x_df, pd.DataFrame(last_row).T], axis=0)\n",
    "           \n",
    "    x_df = x_df.groupby('patient id').apply(lambda x: x.iloc[num_hours:])\n",
    "    x_df = x_df.reset_index(drop=True)\n",
    "    if y_df is not None:\n",
    "        y_df = y_df[y_df.index.isin(x_df.index)]\n",
    "    return x_df, y_df "
   ]
  },
  {
   "cell_type": "code",
   "execution_count": 319,
   "metadata": {},
   "outputs": [
    {
     "data": {
      "text/html": [
       "<div>\n",
       "<style scoped>\n",
       "    .dataframe tbody tr th:only-of-type {\n",
       "        vertical-align: middle;\n",
       "    }\n",
       "\n",
       "    .dataframe tbody tr th {\n",
       "        vertical-align: top;\n",
       "    }\n",
       "\n",
       "    .dataframe thead th {\n",
       "        text-align: right;\n",
       "    }\n",
       "</style>\n",
       "<table border=\"1\" class=\"dataframe\">\n",
       "  <thead>\n",
       "    <tr style=\"text-align: right;\">\n",
       "      <th></th>\n",
       "      <th>patient id</th>\n",
       "      <th>x</th>\n",
       "    </tr>\n",
       "  </thead>\n",
       "  <tbody>\n",
       "    <tr>\n",
       "      <th>0</th>\n",
       "      <td>A</td>\n",
       "      <td>0</td>\n",
       "    </tr>\n",
       "    <tr>\n",
       "      <th>1</th>\n",
       "      <td>A</td>\n",
       "      <td>0</td>\n",
       "    </tr>\n",
       "    <tr>\n",
       "      <th>2</th>\n",
       "      <td>A</td>\n",
       "      <td>0</td>\n",
       "    </tr>\n",
       "    <tr>\n",
       "      <th>3</th>\n",
       "      <td>A</td>\n",
       "      <td>1</td>\n",
       "    </tr>\n",
       "    <tr>\n",
       "      <th>4</th>\n",
       "      <td>B</td>\n",
       "      <td>0</td>\n",
       "    </tr>\n",
       "    <tr>\n",
       "      <th>5</th>\n",
       "      <td>B</td>\n",
       "      <td>1</td>\n",
       "    </tr>\n",
       "    <tr>\n",
       "      <th>6</th>\n",
       "      <td>C</td>\n",
       "      <td>1</td>\n",
       "    </tr>\n",
       "  </tbody>\n",
       "</table>\n",
       "</div>"
      ],
      "text/plain": [
       "  patient id  x\n",
       "0          A  0\n",
       "1          A  0\n",
       "2          A  0\n",
       "3          A  1\n",
       "4          B  0\n",
       "5          B  1\n",
       "6          C  1"
      ]
     },
     "execution_count": 319,
     "metadata": {},
     "output_type": "execute_result"
    }
   ],
   "source": [
    "mini_df = pd.DataFrame({'patient id': ['A', 'A', 'A', 'A', 'B', 'B', 'C'],\n",
    "                      'x': ['0', '0', '0', '1', '0', '1', '1']})\n",
    "mini_df"
   ]
  },
  {
   "cell_type": "code",
   "execution_count": 320,
   "metadata": {},
   "outputs": [
    {
     "data": {
      "text/html": [
       "<div>\n",
       "<style scoped>\n",
       "    .dataframe tbody tr th:only-of-type {\n",
       "        vertical-align: middle;\n",
       "    }\n",
       "\n",
       "    .dataframe tbody tr th {\n",
       "        vertical-align: top;\n",
       "    }\n",
       "\n",
       "    .dataframe thead th {\n",
       "        text-align: right;\n",
       "    }\n",
       "</style>\n",
       "<table border=\"1\" class=\"dataframe\">\n",
       "  <thead>\n",
       "    <tr style=\"text-align: right;\">\n",
       "      <th></th>\n",
       "      <th>patient id</th>\n",
       "      <th>x</th>\n",
       "      <th>x_before_1_hour</th>\n",
       "      <th>x_before_2_hour</th>\n",
       "      <th>x_before_3_hour</th>\n",
       "    </tr>\n",
       "  </thead>\n",
       "  <tbody>\n",
       "    <tr>\n",
       "      <th>0</th>\n",
       "      <td>A</td>\n",
       "      <td>1</td>\n",
       "      <td>0</td>\n",
       "      <td>0</td>\n",
       "      <td>0</td>\n",
       "    </tr>\n",
       "    <tr>\n",
       "      <th>1</th>\n",
       "      <td>B</td>\n",
       "      <td>1</td>\n",
       "      <td>0</td>\n",
       "      <td>0</td>\n",
       "      <td>0</td>\n",
       "    </tr>\n",
       "    <tr>\n",
       "      <th>2</th>\n",
       "      <td>C</td>\n",
       "      <td>1</td>\n",
       "      <td>1</td>\n",
       "      <td>1</td>\n",
       "      <td>1</td>\n",
       "    </tr>\n",
       "  </tbody>\n",
       "</table>\n",
       "</div>"
      ],
      "text/plain": [
       "  patient id  x x_before_1_hour x_before_2_hour x_before_3_hour\n",
       "0          A  1               0               0               0\n",
       "1          B  1               0               0               0\n",
       "2          C  1               1               1               1"
      ]
     },
     "execution_count": 320,
     "metadata": {},
     "output_type": "execute_result"
    }
   ],
   "source": [
    "res, _ = add_time_series_cols(mini_df, ['x'], 3)\n",
    "res"
   ]
  },
  {
   "cell_type": "code",
   "execution_count": 336,
   "metadata": {
    "scrolled": true
   },
   "outputs": [
    {
     "name": "stderr",
     "output_type": "stream",
     "text": [
      "C:\\Users\\maaya\\AppData\\Local\\Temp\\ipykernel_2596\\207783653.py:5: PerformanceWarning: DataFrame is highly fragmented.  This is usually the result of calling `frame.insert` many times, which has poor performance.  Consider joining all columns at once using pd.concat(axis=1) instead. To get a de-fragmented frame, use `newframe = frame.copy()`\n",
      "  x_df[f'{feature}_before_{hour}_hour'] = x_df.groupby('patient id')[feature].shift(hour)\n",
      "C:\\Users\\maaya\\AppData\\Local\\Temp\\ipykernel_2596\\207783653.py:5: PerformanceWarning: DataFrame is highly fragmented.  This is usually the result of calling `frame.insert` many times, which has poor performance.  Consider joining all columns at once using pd.concat(axis=1) instead. To get a de-fragmented frame, use `newframe = frame.copy()`\n",
      "  x_df[f'{feature}_before_{hour}_hour'] = x_df.groupby('patient id')[feature].shift(hour)\n",
      "C:\\Users\\maaya\\AppData\\Local\\Temp\\ipykernel_2596\\207783653.py:5: PerformanceWarning: DataFrame is highly fragmented.  This is usually the result of calling `frame.insert` many times, which has poor performance.  Consider joining all columns at once using pd.concat(axis=1) instead. To get a de-fragmented frame, use `newframe = frame.copy()`\n",
      "  x_df[f'{feature}_before_{hour}_hour'] = x_df.groupby('patient id')[feature].shift(hour)\n",
      "C:\\Users\\maaya\\AppData\\Local\\Temp\\ipykernel_2596\\207783653.py:5: PerformanceWarning: DataFrame is highly fragmented.  This is usually the result of calling `frame.insert` many times, which has poor performance.  Consider joining all columns at once using pd.concat(axis=1) instead. To get a de-fragmented frame, use `newframe = frame.copy()`\n",
      "  x_df[f'{feature}_before_{hour}_hour'] = x_df.groupby('patient id')[feature].shift(hour)\n",
      "C:\\Users\\maaya\\AppData\\Local\\Temp\\ipykernel_2596\\207783653.py:5: PerformanceWarning: DataFrame is highly fragmented.  This is usually the result of calling `frame.insert` many times, which has poor performance.  Consider joining all columns at once using pd.concat(axis=1) instead. To get a de-fragmented frame, use `newframe = frame.copy()`\n",
      "  x_df[f'{feature}_before_{hour}_hour'] = x_df.groupby('patient id')[feature].shift(hour)\n",
      "C:\\Users\\maaya\\AppData\\Local\\Temp\\ipykernel_2596\\207783653.py:5: PerformanceWarning: DataFrame is highly fragmented.  This is usually the result of calling `frame.insert` many times, which has poor performance.  Consider joining all columns at once using pd.concat(axis=1) instead. To get a de-fragmented frame, use `newframe = frame.copy()`\n",
      "  x_df[f'{feature}_before_{hour}_hour'] = x_df.groupby('patient id')[feature].shift(hour)\n",
      "C:\\Users\\maaya\\AppData\\Local\\Temp\\ipykernel_2596\\207783653.py:5: PerformanceWarning: DataFrame is highly fragmented.  This is usually the result of calling `frame.insert` many times, which has poor performance.  Consider joining all columns at once using pd.concat(axis=1) instead. To get a de-fragmented frame, use `newframe = frame.copy()`\n",
      "  x_df[f'{feature}_before_{hour}_hour'] = x_df.groupby('patient id')[feature].shift(hour)\n",
      "C:\\Users\\maaya\\AppData\\Local\\Temp\\ipykernel_2596\\207783653.py:5: PerformanceWarning: DataFrame is highly fragmented.  This is usually the result of calling `frame.insert` many times, which has poor performance.  Consider joining all columns at once using pd.concat(axis=1) instead. To get a de-fragmented frame, use `newframe = frame.copy()`\n",
      "  x_df[f'{feature}_before_{hour}_hour'] = x_df.groupby('patient id')[feature].shift(hour)\n",
      "C:\\Users\\maaya\\AppData\\Local\\Temp\\ipykernel_2596\\207783653.py:5: PerformanceWarning: DataFrame is highly fragmented.  This is usually the result of calling `frame.insert` many times, which has poor performance.  Consider joining all columns at once using pd.concat(axis=1) instead. To get a de-fragmented frame, use `newframe = frame.copy()`\n",
      "  x_df[f'{feature}_before_{hour}_hour'] = x_df.groupby('patient id')[feature].shift(hour)\n",
      "C:\\Users\\maaya\\AppData\\Local\\Temp\\ipykernel_2596\\207783653.py:5: PerformanceWarning: DataFrame is highly fragmented.  This is usually the result of calling `frame.insert` many times, which has poor performance.  Consider joining all columns at once using pd.concat(axis=1) instead. To get a de-fragmented frame, use `newframe = frame.copy()`\n",
      "  x_df[f'{feature}_before_{hour}_hour'] = x_df.groupby('patient id')[feature].shift(hour)\n",
      "C:\\Users\\maaya\\AppData\\Local\\Temp\\ipykernel_2596\\207783653.py:5: PerformanceWarning: DataFrame is highly fragmented.  This is usually the result of calling `frame.insert` many times, which has poor performance.  Consider joining all columns at once using pd.concat(axis=1) instead. To get a de-fragmented frame, use `newframe = frame.copy()`\n",
      "  x_df[f'{feature}_before_{hour}_hour'] = x_df.groupby('patient id')[feature].shift(hour)\n",
      "C:\\Users\\maaya\\AppData\\Local\\Temp\\ipykernel_2596\\207783653.py:5: PerformanceWarning: DataFrame is highly fragmented.  This is usually the result of calling `frame.insert` many times, which has poor performance.  Consider joining all columns at once using pd.concat(axis=1) instead. To get a de-fragmented frame, use `newframe = frame.copy()`\n",
      "  x_df[f'{feature}_before_{hour}_hour'] = x_df.groupby('patient id')[feature].shift(hour)\n"
     ]
    }
   ],
   "source": [
    "features_to_process = set(X_train.columns) - set(['Age', 'Gender', 'Unit1', 'Unit2','HospAdmTime', 'ICULOS', 'SepsisLabel', 'patient id'])\n",
    "X_train, y_train = add_time_series_cols(X_train, features_to_process, 3, y_train)\n",
    "X_test,_ = add_time_series_cols(X_test, features_to_process, 3)"
   ]
  },
  {
   "cell_type": "code",
   "execution_count": 337,
   "metadata": {},
   "outputs": [
    {
     "name": "stdout",
     "output_type": "stream",
     "text": [
      "(706884, 106)\n",
      "(706884,)\n"
     ]
    }
   ],
   "source": [
    "print(X_train.shape)\n",
    "print(y_train.shape)"
   ]
  },
  {
   "cell_type": "code",
   "execution_count": 340,
   "metadata": {},
   "outputs": [
    {
     "name": "stdout",
     "output_type": "stream",
     "text": [
      "Accuracy: 0.9259\n",
      "Precision: 0.0\n",
      "Recall: 0.0\n",
      "F1 Score: 0.0\n",
      "AUC-ROC: 0.5\n",
      "Mean Absolute Error: 0.0741\n",
      "Root Mean Squared Error: 0.272213151776324\n"
     ]
    },
    {
     "name": "stderr",
     "output_type": "stream",
     "text": [
      "c:\\users\\maaya\\appdata\\local\\programs\\python\\python39\\lib\\site-packages\\sklearn\\metrics\\_classification.py:1344: UndefinedMetricWarning: Precision is ill-defined and being set to 0.0 due to no predicted samples. Use `zero_division` parameter to control this behavior.\n",
      "  _warn_prf(average, modifier, msg_start, len(result))\n"
     ]
    },
    {
     "data": {
      "image/png": "[encoded data removed]",
      "text/plain": [
       "<Figure size 640x480 with 2 Axes>"
      ]
     },
     "metadata": {},
     "output_type": "display_data"
    }
   ],
   "source": [
    "# without under sampling and class weight=balanced and pivoted cols \n",
    "model_class = partial(RandomForestClassifier, n_estimators=300, min_samples_leaf=3, class_weight=\"balanced\")\n",
    "all_y_pred = run_and_eval(model_class=model_class,\n",
    "             X_train=X_train,\n",
    "             y_train=y_train,\n",
    "             X_test=X_test,\n",
    "             y_test=y_test)"
   ]
  },
  {
   "cell_type": "code",
   "execution_count": 118,
   "metadata": {},
   "outputs": [
    {
     "name": "stdout",
     "output_type": "stream",
     "text": [
      "Accuracy: 0.9343\n",
      "Precision: 0.64\n",
      "Recall: 0.2591093117408907\n",
      "F1 Score: 0.3688760806916426\n",
      "AUC-ROC: 0.623722492569873\n",
      "Mean Absolute Error: 0.0657\n",
      "Root Mean Squared Error: 0.2563201123595259\n"
     ]
    },
    {
     "data": {
      "image/png": "[encoded data removed]",
      "text/plain": [
       "<Figure size 640x480 with 2 Axes>"
      ]
     },
     "metadata": {},
     "output_type": "display_data"
    },
    {
     "data": {
      "text/plain": [
       "array([0, 0, 0, ..., 0, 0, 0], dtype=int64)"
      ]
     },
     "execution_count": 118,
     "metadata": {},
     "output_type": "execute_result"
    }
   ],
   "source": [
    "# without under sampling and class weight=balanced, regular schema\n",
    "model_class = partial(RandomForestClassifier, n_estimators=300, min_samples_leaf=3, class_weight=\"balanced\")\n",
    "run_and_eval(model_class=model_class,\n",
    "             X_train=X_train,\n",
    "             y_train=y_train,\n",
    "             X_test=X_test,\n",
    "             y_test=y_test)"
   ]
  },
  {
   "cell_type": "code",
   "execution_count": 115,
   "metadata": {},
   "outputs": [
    {
     "name": "stdout",
     "output_type": "stream",
     "text": [
      "Accuracy: 0.9359\n",
      "Precision: 0.6724137931034483\n",
      "Recall: 0.2631578947368421\n",
      "F1 Score: 0.3782735208535402\n",
      "AUC-ROC: 0.626448803724399\n",
      "Mean Absolute Error: 0.0641\n",
      "Root Mean Squared Error: 0.25317977802344327\n"
     ]
    },
    {
     "data": {
      "image/png": "[encoded data removed]",
      "text/plain": [
       "<Figure size 640x480 with 2 Axes>"
      ]
     },
     "metadata": {},
     "output_type": "display_data"
    },
    {
     "data": {
      "text/plain": [
       "array([0, 0, 0, ..., 0, 0, 0], dtype=int64)"
      ]
     },
     "execution_count": 115,
     "metadata": {},
     "output_type": "execute_result"
    }
   ],
   "source": [
    "# with under-sampling = 3*minority, regular schema\n",
    "model_class = partial(RandomForestClassifier, n_estimators=300, min_samples_leaf=3)\n",
    "run_and_eval(model_class=model_class,\n",
    "             X_train=X_train,\n",
    "             y_train=y_train,\n",
    "             X_test=X_test,\n",
    "             y_test=y_test)"
   ]
  },
  {
   "cell_type": "code",
   "execution_count": 108,
   "metadata": {},
   "outputs": [
    {
     "name": "stdout",
     "output_type": "stream",
     "text": [
      "Accuracy: 0.9238\n",
      "Precision: 0.4784394250513347\n",
      "Recall: 0.3144399460188934\n",
      "F1 Score: 0.3794788273615635\n",
      "AUC-ROC: 0.643503588950693\n",
      "Mean Absolute Error: 0.0762\n",
      "Root Mean Squared Error: 0.2760434748368452\n"
     ]
    },
    {
     "data": {
      "image/png": "[encoded data removed]",
      "text/plain": [
       "<Figure size 640x480 with 2 Axes>"
      ]
     },
     "metadata": {},
     "output_type": "display_data"
    },
    {
     "data": {
      "text/plain": [
       "array([0, 0, 0, ..., 0, 0, 0], dtype=int64)"
      ]
     },
     "execution_count": 108,
     "metadata": {},
     "output_type": "execute_result"
    }
   ],
   "source": [
    "# with under-sampling = 2*minority, regular schema\n",
    "model_class = partial(RandomForestClassifier, n_estimators=300, min_samples_leaf=3)\n",
    "run_and_eval(model_class=model_class,\n",
    "             X_train=X_train,\n",
    "             y_train=y_train,\n",
    "             X_test=X_test,\n",
    "             y_test=y_test)"
   ]
  },
  {
   "cell_type": "code",
   "execution_count": 24,
   "metadata": {},
   "outputs": [],
   "source": [
    "features_to_process = set(all_df.columns) - set(['Age', 'Gender', 'Unit1', 'Unit2','HospAdmTime', 'ICULOS', 'SepsisLabel', 'patient id'])"
   ]
  },
  {
   "cell_type": "code",
   "execution_count": 43,
   "metadata": {},
   "outputs": [],
   "source": [
    "filled_processed_df = add_time_series_cols(filled_df, features_to_process, 5)"
   ]
  }
 ],
 "metadata": {
  "kernelspec": {
   "display_name": "Python 3 (ipykernel)",
   "language": "python",
   "name": "python3"
  },
  "language_info": {
   "codemirror_mode": {
    "name": "ipython",
    "version": 3
   },
   "file_extension": ".py",
   "mimetype": "text/x-python",
   "name": "python",
   "nbconvert_exporter": "python",
   "pygments_lexer": "ipython3",
   "version": "3.9.6"
  }
 },
 "nbformat": 4,
 "nbformat_minor": 1
}
